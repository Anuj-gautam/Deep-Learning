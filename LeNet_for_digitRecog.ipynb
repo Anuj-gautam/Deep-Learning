{
 "cells": [
  {
   "cell_type": "markdown",
   "metadata": {},
   "source": [
    "# An example of DCNN - LeNet\n",
    "\n",
    "- we will be using mnist dataset.\n",
    "- convolutional layers will also be used accordingly \n",
    "."
   ]
  },
  {
   "cell_type": "code",
   "execution_count": 62,
   "metadata": {},
   "outputs": [
    {
     "name": "stdout",
     "output_type": "stream",
     "text": [
      "2.1.0\n"
     ]
    }
   ],
   "source": [
    "# importing the required libraries and modules\n",
    "\n",
    "import numpy as np\n",
    "import tensorflow as tf\n",
    "from tensorflow.keras import datasets, layers, models, optimizers\n",
    "\n",
    "# checking tensorflow version\n",
    "\n",
    "print(tf.__version__)"
   ]
  },
  {
   "cell_type": "code",
   "execution_count": 83,
   "metadata": {},
   "outputs": [],
   "source": [
    "#  network and training variables\n",
    "\n",
    "EPOCHS = 20\n",
    "BATCH_SIZE = 128\n",
    "VERBOSE = 1\n",
    "OPTIMIZER = tf.keras.optimizers.Adam()\n",
    "VALIDATION_SPLIT = 0.33         # using 33% percent of training dataset as validation dataset.\n",
    "\n",
    "IMG_ROWS, IMG_COLS = 28, 28     #image rows and columns\n",
    "INPUT_SHAPE = (IMG_ROWS, IMG_COLS, 1)\n",
    "NB_CLASSES = 10     #number of output = number of digits"
   ]
  },
  {
   "cell_type": "code",
   "execution_count": 64,
   "metadata": {},
   "outputs": [],
   "source": [
    "#  defining the convnet\n",
    "\n",
    "def build(input_shape, classes):\n",
    "    \n",
    "    \"\"\"function to define the model \"\"\"\n",
    "    \n",
    "    model = models.Sequential()\n",
    "    \n",
    "    \n",
    "    #CONV => RELU => POOL\n",
    "    model.add(layers.Convolution2D(20, (5, 5), activation = 'relu', input_shape = input_shape))\n",
    "    model.add(layers.MaxPooling2D(pool_size = (2, 2), strides = (2, 2)))\n",
    "    \n",
    "    \n",
    "    #CONV => RELU => POOL\n",
    "    # HERE NUMBER OF CONVOLUTION FILTER WILL INCREASE TO 50\n",
    "    \n",
    "    model.add(layers.Convolution2D(50, (5, 5), activation = 'relu'))\n",
    "    model.add(layers.MaxPooling2D(pool_size = (2, 2), strides = (2, 2)))\n",
    "    \n",
    "    \n",
    "    # Then we have a pretty standard flattening and a dense network of 500 (50 X 10) neurons\n",
    "    # followed by a softmax classifier with 10 classes because 10 output.\n",
    "    \n",
    "    # FLATTEN => RELU layers\n",
    "    \n",
    "    model.add(layers.Flatten())\n",
    "    model.add(layers.Dense(500, activation = 'relu'))\n",
    "    \n",
    "    # a softmax classifier\n",
    "    \n",
    "    model.add(layers.Dense(classes, activation = \"softmax\"))\n",
    "    \n",
    "    return model\n",
    "    "
   ]
  },
  {
   "cell_type": "markdown",
   "metadata": {},
   "source": [
    "now we will import dataset ans pre process it for further predictions.\n"
   ]
  },
  {
   "cell_type": "code",
   "execution_count": 65,
   "metadata": {},
   "outputs": [],
   "source": [
    "(x_train, y_train), (x_test, y_test) = datasets.mnist.load_data()"
   ]
  },
  {
   "cell_type": "code",
   "execution_count": 66,
   "metadata": {},
   "outputs": [
    {
     "data": {
      "text/plain": [
       "(60000, 28, 28)"
      ]
     },
     "execution_count": 66,
     "metadata": {},
     "output_type": "execute_result"
    }
   ],
   "source": [
    "x_train.shape"
   ]
  },
  {
   "cell_type": "code",
   "execution_count": 67,
   "metadata": {},
   "outputs": [],
   "source": [
    "# reshaping the data\n",
    "\n",
    "x_train = x_train.reshape((60000, 28, 28, 1))\n",
    "x_test = x_test.reshape((10000, 28, 28, 1))"
   ]
  },
  {
   "cell_type": "code",
   "execution_count": 68,
   "metadata": {},
   "outputs": [],
   "source": [
    "#normalizing the datasets by bringing the pixel value in range(0, 1)\n",
    "\n",
    "x_train, x_test = x_train / 255.0, x_test / 255.0"
   ]
  },
  {
   "cell_type": "code",
   "execution_count": 69,
   "metadata": {},
   "outputs": [],
   "source": [
    "# casting the data type of input data\n",
    "\n",
    "x_train = x_train.astype('float32')\n",
    "x_test = x_test.astype('float32')"
   ]
  },
  {
   "cell_type": "code",
   "execution_count": 70,
   "metadata": {},
   "outputs": [],
   "source": [
    "# converting class vectors to binary class metrics(one hot verctor)\n",
    "\n",
    "y_train = tf.keras.utils.to_categorical(y_train, NB_CLASSES)\n",
    "y_test = tf.keras.utils.to_categorical(y_test, NB_CLASSES)"
   ]
  },
  {
   "cell_type": "code",
   "execution_count": 71,
   "metadata": {},
   "outputs": [
    {
     "name": "stdout",
     "output_type": "stream",
     "text": [
      "Model: \"sequential_4\"\n",
      "_________________________________________________________________\n",
      "Layer (type)                 Output Shape              Param #   \n",
      "=================================================================\n",
      "conv2d_8 (Conv2D)            (None, 24, 24, 20)        520       \n",
      "_________________________________________________________________\n",
      "max_pooling2d_6 (MaxPooling2 (None, 12, 12, 20)        0         \n",
      "_________________________________________________________________\n",
      "conv2d_9 (Conv2D)            (None, 8, 8, 50)          25050     \n",
      "_________________________________________________________________\n",
      "max_pooling2d_7 (MaxPooling2 (None, 4, 4, 50)          0         \n",
      "_________________________________________________________________\n",
      "flatten_2 (Flatten)          (None, 800)               0         \n",
      "_________________________________________________________________\n",
      "dense_4 (Dense)              (None, 500)               400500    \n",
      "_________________________________________________________________\n",
      "dense_5 (Dense)              (None, 10)                5010      \n",
      "=================================================================\n",
      "Total params: 431,080\n",
      "Trainable params: 431,080\n",
      "Non-trainable params: 0\n",
      "_________________________________________________________________\n"
     ]
    }
   ],
   "source": [
    "# INITIALIZE THE DEFINED MODEL AND OPTIMIZER\n",
    "\n",
    "model = build(input_shape = INPUT_SHAPE, classes = NB_CLASSES)\n",
    "model.compile(loss = \"categorical_crossentropy\", optimizer = OPTIMIZER,\n",
    "             metrics = [\"accuracy\"])\n",
    "model.summary()"
   ]
  },
  {
   "cell_type": "code",
   "execution_count": 72,
   "metadata": {},
   "outputs": [],
   "source": [
    "# use tensorboard to visualize\n",
    "\n",
    "callbacks = [\n",
    "    # Write TensorBoard logs to './logs' directory\n",
    "    tf.keras.callbacks.TensorBoard(log_dir = './logs')\n",
    "]"
   ]
  },
  {
   "cell_type": "code",
   "execution_count": 73,
   "metadata": {},
   "outputs": [
    {
     "name": "stdout",
     "output_type": "stream",
     "text": [
      "Train on 40199 samples, validate on 19801 samples\n",
      "Epoch 1/20\n",
      "40199/40199 [==============================] - 31s 773us/sample - loss: 0.2413 - accuracy: 0.9267 - val_loss: 0.0882 - val_accuracy: 0.9718\n",
      "Epoch 2/20\n",
      "40199/40199 [==============================] - 31s 782us/sample - loss: 0.0613 - accuracy: 0.9809 - val_loss: 0.0587 - val_accuracy: 0.9818\n",
      "Epoch 3/20\n",
      "40199/40199 [==============================] - 31s 776us/sample - loss: 0.0416 - accuracy: 0.9867 - val_loss: 0.0532 - val_accuracy: 0.9844\n",
      "Epoch 4/20\n",
      "40199/40199 [==============================] - 31s 776us/sample - loss: 0.0290 - accuracy: 0.9905 - val_loss: 0.0551 - val_accuracy: 0.9839\n",
      "Epoch 5/20\n",
      "40199/40199 [==============================] - 31s 773us/sample - loss: 0.0252 - accuracy: 0.9918 - val_loss: 0.0436 - val_accuracy: 0.9868\n",
      "Epoch 6/20\n",
      "40199/40199 [==============================] - 31s 762us/sample - loss: 0.0185 - accuracy: 0.9938 - val_loss: 0.0604 - val_accuracy: 0.9820\n",
      "Epoch 7/20\n",
      "40199/40199 [==============================] - 33s 822us/sample - loss: 0.0215 - accuracy: 0.9927 - val_loss: 0.0446 - val_accuracy: 0.9878\n",
      "Epoch 8/20\n",
      "40199/40199 [==============================] - 37s 918us/sample - loss: 0.0121 - accuracy: 0.9961 - val_loss: 0.0538 - val_accuracy: 0.9861\n",
      "Epoch 9/20\n",
      "40199/40199 [==============================] - 30s 746us/sample - loss: 0.0087 - accuracy: 0.9969 - val_loss: 0.0527 - val_accuracy: 0.9866\n",
      "Epoch 10/20\n",
      "40199/40199 [==============================] - 30s 746us/sample - loss: 0.0074 - accuracy: 0.9975 - val_loss: 0.0472 - val_accuracy: 0.9886\n",
      "Epoch 11/20\n",
      "40199/40199 [==============================] - 30s 742us/sample - loss: 0.0063 - accuracy: 0.9975 - val_loss: 0.0580 - val_accuracy: 0.9870\n",
      "Epoch 12/20\n",
      "40199/40199 [==============================] - 30s 736us/sample - loss: 0.0084 - accuracy: 0.9973 - val_loss: 0.0563 - val_accuracy: 0.9885\n",
      "Epoch 13/20\n",
      "40199/40199 [==============================] - 30s 741us/sample - loss: 0.0056 - accuracy: 0.9982 - val_loss: 0.0534 - val_accuracy: 0.9891\n",
      "Epoch 14/20\n",
      "40199/40199 [==============================] - 30s 753us/sample - loss: 0.0055 - accuracy: 0.9983 - val_loss: 0.0526 - val_accuracy: 0.9886\n",
      "Epoch 15/20\n",
      "40199/40199 [==============================] - 30s 739us/sample - loss: 0.0075 - accuracy: 0.9977 - val_loss: 0.0498 - val_accuracy: 0.9883\n",
      "Epoch 16/20\n",
      "40199/40199 [==============================] - 30s 741us/sample - loss: 0.0056 - accuracy: 0.9983 - val_loss: 0.0651 - val_accuracy: 0.9841\n",
      "Epoch 17/20\n",
      "40199/40199 [==============================] - 30s 755us/sample - loss: 0.0043 - accuracy: 0.9987 - val_loss: 0.0499 - val_accuracy: 0.9898\n",
      "Epoch 18/20\n",
      "40199/40199 [==============================] - 30s 746us/sample - loss: 0.0051 - accuracy: 0.9982 - val_loss: 0.0491 - val_accuracy: 0.9896\n",
      "Epoch 19/20\n",
      "40199/40199 [==============================] - 30s 740us/sample - loss: 0.0016 - accuracy: 0.9994 - val_loss: 0.0625 - val_accuracy: 0.9883\n",
      "Epoch 20/20\n",
      "40199/40199 [==============================] - 30s 743us/sample - loss: 0.0042 - accuracy: 0.9990 - val_loss: 0.0648 - val_accuracy: 0.9864\n"
     ]
    },
    {
     "data": {
      "image/png": "[encoded data removed]",
      "text/plain": [
       "<Figure size 432x288 with 1 Axes>"
      ]
     },
     "metadata": {
      "needs_background": "light"
     },
     "output_type": "display_data"
    },
    {
     "data": {
      "image/png": "[encoded data removed]",
      "text/plain": [
       "<Figure size 432x288 with 1 Axes>"
      ]
     },
     "metadata": {
      "needs_background": "light"
     },
     "output_type": "display_data"
    }
   ],
   "source": [
    "# fitting the model or training the model\n",
    "\n",
    "history = model.fit(x_train, y_train, batch_size = BATCH_SIZE, epochs = EPOCHS,\n",
    "                   verbose = VERBOSE, validation_split = VALIDATION_SPLIT,\n",
    "                   callbacks = callbacks)\n",
    "\n",
    "\n",
    "# plotting for train and validation accuracy for each epochs\n",
    "plt.plot(history.history['accuracy'])\n",
    "plt.plot(history.history['val_accuracy'])\n",
    "plt.title('model accurcy')\n",
    "plt.xlabel('Epochs')\n",
    "plt.ylabel('accuracy')\n",
    "plt.legend(['train', 'validation or test'], loc = 'upper left')\n",
    "plt.show()\n",
    "\n",
    "\n",
    "#plotting for training and validation loss\n",
    "\n",
    "plt.plot(history.history['loss'])\n",
    "plt.plot(history.history['val_loss'])\n",
    "plt.title('loss')\n",
    "plt.xlabel('Epochs')\n",
    "plt.ylabel('Loss')\n",
    "plt.legend(['loss', 'val_loss or test loss'], loc = 'upper left')\n",
    "plt.show()"
   ]
  },
  {
   "cell_type": "code",
   "execution_count": 77,
   "metadata": {},
   "outputs": [
    {
     "name": "stdout",
     "output_type": "stream",
     "text": [
      "10000/10000 [==============================] - 3s 292us/sample - loss: 0.0564 - accuracy: 0.9868\n",
      "\n",
      "Test score :  0.056416880939094846\n",
      "Test Accuracy :  0.9868\n"
     ]
    }
   ],
   "source": [
    "# predicting\n",
    "\n",
    "score = model.evaluate(x_test, y_test)\n",
    "print(\"\\nTest score : \", score[0])\n",
    "print(\"Test Accuracy : \", score[1])"
   ]
  },
  {
   "cell_type": "markdown",
   "metadata": {},
   "source": [
    "# first epochs = 5 => test acc = 94%\n",
    "# second epochs = 20 => test_acc = 97.38%\n",
    "\n",
    "- by looking at plots of loss and accuracy we can have a eye over number of epochs`"
   ]
  },
  {
   "cell_type": "code",
   "execution_count": 82,
   "metadata": {},
   "outputs": [
    {
     "data": {
      "text/plain": [
       "dict_keys(['loss', 'accuracy', 'val_loss', 'val_accuracy'])"
      ]
     },
     "execution_count": 82,
     "metadata": {},
     "output_type": "execute_result"
    }
   ],
   "source": [
    "# finding model keywords to check values of loss and accuracy for further information\n",
    "\n",
    "\n",
    "history.history.keys()"
   ]
  },
  {
   "cell_type": "code",
   "execution_count": null,
   "metadata": {},
   "outputs": [],
   "source": []
  }
 ],
 "metadata": {
  "kernelspec": {
   "display_name": "Python 3",
   "language": "python",
   "name": "python3"
  },
  "language_info": {
   "codemirror_mode": {
    "name": "ipython",
    "version": 3
   },
   "file_extension": ".py",
   "mimetype": "text/x-python",
   "name": "python",
   "nbconvert_exporter": "python",
   "pygments_lexer": "ipython3",
   "version": "3.7.4"
  }
 },
 "nbformat": 4,
 "nbformat_minor": 2
}
